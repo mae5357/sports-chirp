{
 "cells": [
  {
   "cell_type": "code",
   "execution_count": null,
   "metadata": {},
   "outputs": [],
   "source": [
    "# use Colley’s method to rank teams\n",
    "# https://en.wikipedia.org/wiki/Colley_matrix\n",
    "# https://www.sports-reference.com/blog/2019/03/colley-matrix/\n",
    "\n",
    "import numpy as np\n",
    "import pandas as pd\n",
    "import requests\n",
    "\n"
   ]
  }
 ],
 "metadata": {
  "language_info": {
   "name": "python"
  },
  "orig_nbformat": 4
 },
 "nbformat": 4,
 "nbformat_minor": 2
}
