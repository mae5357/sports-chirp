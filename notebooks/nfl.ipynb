{
 "cells": [
  {
   "cell_type": "code",
   "execution_count": null,
   "metadata": {},
   "outputs": [],
   "source": [
    "import http.client\n",
    "\n",
    "conn = http.client.HTTPSConnection(\"api.sportradar.us\")\n",
    "\n",
    "conn.request(\"GET\", \"/nfl/official/trial/v7/en/games/2021/REG/01/schedule.xml?api_key={your_api_key}\")\n",
    "\n",
    "res = conn.getresponse()\n",
    "data = res.read()\n",
    "\n",
    "print(data.decode(\"utf-8\"))"
   ]
  }
 ],
 "metadata": {
  "kernelspec": {
   "display_name": "Python 3.8.10 ('venv': venv)",
   "language": "python",
   "name": "python3"
  },
  "language_info": {
   "name": "python",
   "version": "3.8.10"
  },
  "orig_nbformat": 4,
  "vscode": {
   "interpreter": {
    "hash": "04947aa7f04f6be4977bb7e62ffe55cc1147f471b2810ba0af9d44becee87118"
   }
  }
 },
 "nbformat": 4,
 "nbformat_minor": 2
}
