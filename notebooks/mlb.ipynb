{
 "cells": [
  {
   "cell_type": "code",
   "execution_count": 3,
   "metadata": {},
   "outputs": [],
   "source": [
    "import requests\n",
    "import json\n",
    "import os\n",
    "\n",
    "from dotenv import load_dotenv\n",
    "load_dotenv()\n",
    "date = '2022-08-11'\n"
   ]
  },
  {
   "cell_type": "code",
   "execution_count": 4,
   "metadata": {},
   "outputs": [],
   "source": [
    "\n",
    "# get all the ids of a match for a url \n",
    "url = \"https://v1.baseball.api-sports.io/games\"\n",
    "\n",
    "payload={'league':1, 'season':2022,'date':date}\n",
    "\n",
    "headers = {\n",
    "    'x-rapidapi-key': os.environ.get(\"RAPIDAPI_KEY\"),\n",
    "  'x-rapidapi-host': 'v3.football.api-sports.io'\n",
    "}\n",
    "\n",
    "game_response = json.loads(requests.request(\"GET\", url, headers=headers, params=payload).text)\n"
   ]
  },
  {
   "cell_type": "code",
   "execution_count": 18,
   "metadata": {},
   "outputs": [
    {
     "data": {
      "text/plain": [
       "'Astros'"
      ]
     },
     "execution_count": 18,
     "metadata": {},
     "output_type": "execute_result"
    }
   ],
   "source": [
    "game_response['response'][0]['teams']['home']['name'].split()[1]"
   ]
  },
  {
   "cell_type": "code",
   "execution_count": 19,
   "metadata": {},
   "outputs": [],
   "source": [
    "score_match_dict = {}\n",
    "for match in game_response['response']:\n",
    "    # get the fixture id\n",
    "    fixture = match['id']\n",
    "    \n",
    "     # get the team names\n",
    "    home_team = match['teams']['home']['name'].split()[1]\n",
    "    away_team = match['teams']['away']['name'].split()[1]\n",
    "    # get the score\n",
    "    home_score = match['scores']['home']['hits']\n",
    "    away_score = match['scores']['away']['hits']\n",
    "\n",
    "    # who won?\n",
    "    if home_score > away_score:\n",
    "        winner = 'Home'\n",
    "    elif home_score < away_score:\n",
    "        winner = 'Away'\n",
    "    else:\n",
    "        winner = 'Draw'\n",
    "\n",
    "    score_match_dict[fixture]={'home_team':home_team, 'away_team':away_team, 'home_score':home_score, 'away_score':away_score, 'winner':winner}\n"
   ]
  },
  {
   "cell_type": "code",
   "execution_count": 21,
   "metadata": {},
   "outputs": [],
   "source": [
    "url = \"https://v1.baseball.api-sports.io/odds\"\n",
    "\n",
    "payload={'league':1, 'season':2022}\n",
    "\n",
    "headers = {\n",
    "    'x-rapidapi-key': os.environ.get(\"RAPIDAPI_KEY\"),\n",
    "  'x-rapidapi-host': 'v3.football.api-sports.io'\n",
    "}\n",
    "\n",
    "odds_response = json.loads(requests.request(\"GET\", url, headers=headers, params=payload).text)\n"
   ]
  },
  {
   "cell_type": "code",
   "execution_count": 22,
   "metadata": {},
   "outputs": [],
   "source": [
    "odds_match_dict={}\n",
    "for match in odds_response['response']:\n",
    "    if match['game']['id'] in score_match_dict.keys():\n",
    "        assert(match['bookmakers'][0]['name']=='NordicBet')\n",
    "        assert(match['bookmakers'][0]['bets'][0]['name']=='Match Winner')\n",
    "\n",
    "        odd_dict = {}\n",
    "        for value in match['bookmakers'][0]['bets'][0]['values']:\n",
    "            odd_dict[value['odd']] = value['value']\n",
    "\n",
    "        pred_win = odd_dict[min(odd_dict.keys())]\n",
    "        odds_match_dict[match['game']['id']] = pred_win\n",
    "    else:\n",
    "        pass\n",
    "\n"
   ]
  },
  {
   "cell_type": "code",
   "execution_count": 37,
   "metadata": {},
   "outputs": [],
   "source": [
    "# get lists of correct and incorrect predictions\n",
    "correct_ids = []\n",
    "upset_ids = []\n",
    "\n",
    "for match_id in odds_match_dict.keys():\n",
    "    if odds_match_dict[match_id]!=score_match_dict[match_id]['winner']:\n",
    "       upset_ids.append(match_id) \n",
    "    else:\n",
    "        correct_ids.append(match_id)\n",
    "\n",
    "def create_tweet(correct_ids, upset_ids, score_match_dict, date='2022-08-11'):\n",
    "    tweet_text = str('#MLB Scores {date}\\n\\n').format(date=date)\n",
    "    tweet_text=tweet_text+str(\"UPSETS: \\n\")\n",
    "    for id in upset_ids:\n",
    "        score_match_dict[id]\n",
    "        tweet_text=tweet_text+str(\"{home_team}: {home_score} - {away_team}: {away_score} \\n\").format(\n",
    "            home_team=score_match_dict[id]['home_team'], \n",
    "            home_score=score_match_dict[id]['home_score'], \n",
    "            away_team=score_match_dict[id]['away_team'], \n",
    "            away_score=score_match_dict[id]['away_score'])\n",
    "\n",
    "    tweet_text=tweet_text+str(\"\\n EXPECTED: \\n\")\n",
    "    for id in correct_ids:\n",
    "        score_match_dict[id]\n",
    "        tweet_text=tweet_text+(str(\"{home_team}: {home_score} - {away_team}: {away_score} \\n\").format(\n",
    "            home_team=score_match_dict[id]['home_team'], \n",
    "            home_score=score_match_dict[id]['home_score'], \n",
    "            away_team=score_match_dict[id]['away_team'], \n",
    "            away_score=score_match_dict[id]['away_score']))\n",
    "\n",
    "    if len(tweet_text)>=280:\n",
    "        tweet_text_list = tweet_text.split('EXPECTED')\n",
    "        tweet_text_list[1]='EXPECTED'+tweet_text_list[1]\n",
    "    else:\n",
    "        tweet_text_list=[tweet_text]\n",
    "\n",
    "    return tweet_text_list\n",
    "\n",
    "tweet_text_list = create_tweet(correct_ids, upset_ids, score_match_dict, date='2022-08-11')"
   ]
  },
  {
   "cell_type": "code",
   "execution_count": 44,
   "metadata": {},
   "outputs": [
    {
     "name": "stdout",
     "output_type": "stream",
     "text": [
      "#MLB Scores 2022-08-11\n",
      "\n",
      "UPSETS: \n",
      "Astros: 8 - Rangers: 12 \n",
      "City: 15 - White: 7 \n",
      "Diamondbacks: 7 - Pirates: 11 \n",
      "Phillies: 7 - Marlins: 7 \n",
      "Red: 8 - Orioles: 8 \n",
      "Reds: 7 - Cubs: 10 \n",
      "\n",
      " \n",
      "EXPECTED: \n",
      "Rockies: 13 - Cardinals: 18 \n",
      "Angeles: 9 - Twins: 8 \n",
      "Tigers: 7 - Guardians: 8 \n",
      "City: 8 - White: 14 \n",
      "Astros: 10 - Rangers: 8 \n",
      "Diamondbacks: 9 - Pirates: 5 \n",
      "Rockies: 9 - Cardinals: 12 \n",
      "\n"
     ]
    }
   ],
   "source": [
    "for tweet_text in (tweet_text_list):\n",
    "    print(tweet_text)"
   ]
  }
 ],
 "metadata": {
  "kernelspec": {
   "display_name": "Python 3.8.10 ('venv': venv)",
   "language": "python",
   "name": "python3"
  },
  "language_info": {
   "codemirror_mode": {
    "name": "ipython",
    "version": 3
   },
   "file_extension": ".py",
   "mimetype": "text/x-python",
   "name": "python",
   "nbconvert_exporter": "python",
   "pygments_lexer": "ipython3",
   "version": "3.8.10"
  },
  "orig_nbformat": 4,
  "vscode": {
   "interpreter": {
    "hash": "41771bc1f10667d27b3638dda3182fd946701118641fe6d3cee85d76be2610c1"
   }
  }
 },
 "nbformat": 4,
 "nbformat_minor": 2
}
