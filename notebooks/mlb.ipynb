{
 "cells": [
  {
   "cell_type": "code",
   "execution_count": 1,
   "metadata": {},
   "outputs": [],
   "source": [
    "import requests\n",
    "import json\n",
    "import os\n",
    "\n",
    "# load the environment variables\n",
    "from dotenv import load_dotenv\n",
    "load_dotenv()\n",
    "\n",
    "# Bring your packages onto the path\n",
    "import sys\n",
    "sys.path.append(os.path.abspath(os.path.join('..', 'src')))\n",
    "\n",
    "# import functions from src/mlb_scores.py\n",
    "from mlb_scores import get_mlb_scores, get_mlb_odds, get_correct_upsets, create_tweet"
   ]
  },
  {
   "cell_type": "code",
   "execution_count": 2,
   "metadata": {},
   "outputs": [],
   "source": [
    "# get yesterday's date as string\n",
    "import datetime\n",
    "yesterday = datetime.date.today() - datetime.timedelta(days=1)\n",
    "yesterday = yesterday.strftime('%Y-%m-%d')\n",
    "\n",
    "# date = '2022-08-14'\n",
    "date = yesterday"
   ]
  },
  {
   "cell_type": "code",
   "execution_count": 3,
   "metadata": {},
   "outputs": [
    {
     "name": "stdout",
     "output_type": "stream",
     "text": [
      "Connected to MLB API\n"
     ]
    },
    {
     "data": {
      "text/plain": [
       "{74196: {'home_team': 'Rangers',\n",
       "  'away_team': 'Astros',\n",
       "  'home_score': 2,\n",
       "  'away_score': 4,\n",
       "  'winner': 'Away'},\n",
       " 74201: {'home_team': 'White Sox',\n",
       "  'away_team': 'Royals',\n",
       "  'home_score': 7,\n",
       "  'away_score': 9,\n",
       "  'winner': 'Away'},\n",
       " 74207: {'home_team': 'Brewers',\n",
       "  'away_team': 'Pirates',\n",
       "  'home_score': 2,\n",
       "  'away_score': 4,\n",
       "  'winner': 'Away'},\n",
       " 74199: {'home_team': 'Angels',\n",
       "  'away_team': 'Yankees',\n",
       "  'home_score': 4,\n",
       "  'away_score': 7,\n",
       "  'winner': 'Away'},\n",
       " 74203: {'home_team': 'Diamondbacks',\n",
       "  'away_team': 'Phillies',\n",
       "  'home_score': 12,\n",
       "  'away_score': 3,\n",
       "  'winner': 'Home'},\n",
       " 74213: {'home_team': 'Giants',\n",
       "  'away_team': 'Padres',\n",
       "  'home_score': 3,\n",
       "  'away_score': 4,\n",
       "  'winner': 'Away'},\n",
       " 74212: {'home_team': 'Rangers',\n",
       "  'away_team': 'Astros',\n",
       "  'home_score': 3,\n",
       "  'away_score': 5,\n",
       "  'winner': 'Away'},\n",
       " 74208: {'home_team': 'Brewers',\n",
       "  'away_team': 'Pirates',\n",
       "  'home_score': 6,\n",
       "  'away_score': 1,\n",
       "  'winner': 'Home'},\n",
       " 74197: {'home_team': 'Giants',\n",
       "  'away_team': 'Padres',\n",
       "  'home_score': 4,\n",
       "  'away_score': 5,\n",
       "  'winner': 'Away'},\n",
       " 74216: {'home_team': 'Guardians',\n",
       "  'away_team': 'Orioles',\n",
       "  'home_score': 0,\n",
       "  'away_score': 4,\n",
       "  'winner': 'Away'},\n",
       " 74220: {'home_team': 'Reds',\n",
       "  'away_team': 'Cardinals',\n",
       "  'home_score': 3,\n",
       "  'away_score': 5,\n",
       "  'winner': 'Away'},\n",
       " 74221: {'home_team': 'Marlins',\n",
       "  'away_team': 'Rays',\n",
       "  'home_score': 1,\n",
       "  'away_score': 2,\n",
       "  'winner': 'Away'},\n",
       " 74210: {'home_team': 'Nationals',\n",
       "  'away_team': 'Athletics',\n",
       "  'home_score': 5,\n",
       "  'away_score': 1,\n",
       "  'winner': 'Home'},\n",
       " 74211: {'home_team': 'Jays',\n",
       "  'away_team': 'Cubs',\n",
       "  'home_score': 5,\n",
       "  'away_score': 7,\n",
       "  'winner': 'Away'},\n",
       " 74209: {'home_team': 'Mets',\n",
       "  'away_team': 'Dodgers',\n",
       "  'home_score': 2,\n",
       "  'away_score': 1,\n",
       "  'winner': 'Home'},\n",
       " 74215: {'home_team': 'Tigers',\n",
       "  'away_team': 'Mariners',\n",
       "  'home_score': 3,\n",
       "  'away_score': 5,\n",
       "  'winner': 'Away'},\n",
       " 74218: {'home_team': 'Braves',\n",
       "  'away_team': 'Rockies',\n",
       "  'home_score': 3,\n",
       "  'away_score': 2,\n",
       "  'winner': 'Home'},\n",
       " 74222: {'home_team': 'Twins',\n",
       "  'away_team': 'Red Sox',\n",
       "  'home_score': 5,\n",
       "  'away_score': 6,\n",
       "  'winner': 'Away'}}"
      ]
     },
     "execution_count": 3,
     "metadata": {},
     "output_type": "execute_result"
    }
   ],
   "source": [
    "score_match_dict = get_mlb_scores(date)\n",
    "score_match_dict"
   ]
  },
  {
   "cell_type": "code",
   "execution_count": 4,
   "metadata": {},
   "outputs": [
    {
     "data": {
      "text/plain": [
       "{74196: 'Away',\n",
       " 74201: 'Home',\n",
       " 74207: 'Home',\n",
       " 74199: 'Away',\n",
       " 74213: 'Away',\n",
       " 74203: 'Away',\n",
       " 74212: 'Away',\n",
       " 74208: 'Home',\n",
       " 74197: 'Away',\n",
       " 74216: 'Home',\n",
       " 74220: 'Away',\n",
       " 74221: 'Away',\n",
       " 74210: 'Away',\n",
       " 74211: 'Home',\n",
       " 74209: 'Home',\n",
       " 74215: 'Away',\n",
       " 74218: 'Home',\n",
       " 74222: 'Home'}"
      ]
     },
     "execution_count": 4,
     "metadata": {},
     "output_type": "execute_result"
    }
   ],
   "source": [
    "odds_match_dict = get_mlb_odds(score_match_dict, date)\n",
    "odds_match_dict"
   ]
  },
  {
   "cell_type": "code",
   "execution_count": 5,
   "metadata": {},
   "outputs": [
    {
     "data": {
      "text/plain": [
       "{74196: 'Away',\n",
       " 74201: 'Home',\n",
       " 74207: 'Home',\n",
       " 74199: 'Away',\n",
       " 74213: 'Away',\n",
       " 74203: 'Away',\n",
       " 74212: 'Away',\n",
       " 74208: 'Home',\n",
       " 74197: 'Away',\n",
       " 74216: 'Home',\n",
       " 74220: 'Away',\n",
       " 74221: 'Away',\n",
       " 74210: 'Away',\n",
       " 74211: 'Home',\n",
       " 74209: 'Home',\n",
       " 74215: 'Away',\n",
       " 74218: 'Home',\n",
       " 74222: 'Home'}"
      ]
     },
     "execution_count": 5,
     "metadata": {},
     "output_type": "execute_result"
    }
   ],
   "source": [
    "odds_match_dict"
   ]
  },
  {
   "cell_type": "code",
   "execution_count": 6,
   "metadata": {},
   "outputs": [],
   "source": [
    "# get lists of correct and incorrect predictions\n",
    "correct_ids = []\n",
    "upset_ids = []\n",
    "\n",
    "for match_id in odds_match_dict.keys():\n",
    "    if odds_match_dict[match_id]!=score_match_dict[match_id]['winner']:\n",
    "       upset_ids.append(match_id) \n",
    "    else:\n",
    "        correct_ids.append(match_id)\n",
    "\n",
    "def create_tweet(correct_ids, upset_ids, score_match_dict, date='2022-08-11'):\n",
    "    tweet_text = str('#MLB Scores {date}\\n\\n').format(date=date)\n",
    "    tweet_text=tweet_text+str(\"UPSETS: \\n\")\n",
    "    for id in upset_ids:\n",
    "        score_match_dict[id]\n",
    "        tweet_text=tweet_text+str(\"{home_team}: {home_score} - {away_team}: {away_score} \\n\").format(\n",
    "            home_team=score_match_dict[id]['home_team'], \n",
    "            home_score=score_match_dict[id]['home_score'], \n",
    "            away_team=score_match_dict[id]['away_team'], \n",
    "            away_score=score_match_dict[id]['away_score'])\n",
    "\n",
    "    tweet_text=tweet_text+str(\"\\n EXPECTED: \\n\")\n",
    "    for id in correct_ids:\n",
    "        score_match_dict[id]\n",
    "        tweet_text=tweet_text+(str(\"{home_team}: {home_score} - {away_team}: {away_score} \\n\").format(\n",
    "            home_team=score_match_dict[id]['home_team'], \n",
    "            home_score=score_match_dict[id]['home_score'], \n",
    "            away_team=score_match_dict[id]['away_team'], \n",
    "            away_score=score_match_dict[id]['away_score']))\n",
    "\n",
    "    if len(tweet_text)>=280:\n",
    "        tweet_text_list = tweet_text.split('EXPECTED')\n",
    "        tweet_text_list[1]='EXPECTED'+tweet_text_list[1]\n",
    "    else:\n",
    "        tweet_text_list=[tweet_text]\n",
    "\n",
    "    return tweet_text_list\n",
    "\n",
    "tweet_text_list = create_tweet(correct_ids, upset_ids, score_match_dict, date=date)"
   ]
  },
  {
   "cell_type": "code",
   "execution_count": 7,
   "metadata": {},
   "outputs": [
    {
     "name": "stdout",
     "output_type": "stream",
     "text": [
      "#MLB Scores 2022-08-31\n",
      "\n",
      "UPSETS: \n",
      "White Sox: 7 - Royals: 9 \n",
      "Brewers: 2 - Pirates: 4 \n",
      "Diamondbacks: 12 - Phillies: 3 \n",
      "Guardians: 0 - Orioles: 4 \n",
      "Nationals: 5 - Athletics: 1 \n",
      "Jays: 5 - Cubs: 7 \n",
      "Twins: 5 - Red Sox: 6 \n",
      "\n",
      " \n",
      "EXPECTED: \n",
      "Rangers: 2 - Astros: 4 \n",
      "Angels: 4 - Yankees: 7 \n",
      "Giants: 3 - Padres: 4 \n",
      "Rangers: 3 - Astros: 5 \n",
      "Brewers: 6 - Pirates: 1 \n",
      "Giants: 4 - Padres: 5 \n",
      "Reds: 3 - Cardinals: 5 \n",
      "Marlins: 1 - Rays: 2 \n",
      "Mets: 2 - Dodgers: 1 \n",
      "Tigers: 3 - Mariners: 5 \n",
      "Braves: 3 - Rockies: 2 \n",
      "\n"
     ]
    }
   ],
   "source": [
    "for tweet_text in (tweet_text_list):\n",
    "    print(tweet_text)"
   ]
  }
 ],
 "metadata": {
  "kernelspec": {
   "display_name": "Python 3.8.10 ('venv': venv)",
   "language": "python",
   "name": "python3"
  },
  "language_info": {
   "codemirror_mode": {
    "name": "ipython",
    "version": 3
   },
   "file_extension": ".py",
   "mimetype": "text/x-python",
   "name": "python",
   "nbconvert_exporter": "python",
   "pygments_lexer": "ipython3",
   "version": "3.8.10"
  },
  "orig_nbformat": 4,
  "vscode": {
   "interpreter": {
    "hash": "04947aa7f04f6be4977bb7e62ffe55cc1147f471b2810ba0af9d44becee87118"
   }
  }
 },
 "nbformat": 4,
 "nbformat_minor": 2
}
