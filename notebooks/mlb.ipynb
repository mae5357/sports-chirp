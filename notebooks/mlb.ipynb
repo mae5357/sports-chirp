{
 "cells": [
  {
   "cell_type": "code",
   "execution_count": 1,
   "metadata": {},
   "outputs": [],
   "source": [
    "import requests\n",
    "import json\n",
    "import os\n",
    "\n",
    "# load the environment variables\n",
    "from dotenv import load_dotenv\n",
    "load_dotenv()\n",
    "\n",
    "# Bring your packages onto the path\n",
    "import sys\n",
    "sys.path.append(os.path.abspath(os.path.join('..', 'src')))\n",
    "\n",
    "# import functions from src/mlb_scores.py\n",
    "from mlb_scores import get_mlb_scores, get_mlb_odds, get_correct_upsets, create_tweet\n",
    "\n",
    "date = '2022-08-14'"
   ]
  },
  {
   "cell_type": "code",
   "execution_count": null,
   "metadata": {},
   "outputs": [],
   "source": []
  },
  {
   "cell_type": "code",
   "execution_count": 2,
   "metadata": {},
   "outputs": [
    {
     "name": "stdout",
     "output_type": "stream",
     "text": [
      "Connected to MLB API\n"
     ]
    },
    {
     "data": {
      "text/plain": [
       "{73976: {'home_team': 'Rockies',\n",
       "  'away_team': 'Diamondbacks',\n",
       "  'home_score': 0,\n",
       "  'away_score': 6,\n",
       "  'winner': 'Away'},\n",
       " 73971: {'home_team': 'Giants',\n",
       "  'away_team': 'Pirates',\n",
       "  'home_score': 2,\n",
       "  'away_score': 0,\n",
       "  'winner': 'Home'},\n",
       " 73975: {'home_team': 'Angels',\n",
       "  'away_team': 'Twins',\n",
       "  'home_score': 5,\n",
       "  'away_score': 3,\n",
       "  'winner': 'Home'},\n",
       " 73988: {'home_team': 'Nationals',\n",
       "  'away_team': 'Padres',\n",
       "  'home_score': 0,\n",
       "  'away_score': 6,\n",
       "  'winner': 'Away'},\n",
       " 73984: {'home_team': 'Jays',\n",
       "  'away_team': 'Guardians',\n",
       "  'home_score': 2,\n",
       "  'away_score': 7,\n",
       "  'winner': 'Away'},\n",
       " 73981: {'home_team': 'Reds',\n",
       "  'away_team': 'Cubs',\n",
       "  'home_score': 8,\n",
       "  'away_score': 5,\n",
       "  'winner': 'Home'},\n",
       " 73982: {'home_team': 'Marlins',\n",
       "  'away_team': 'Braves',\n",
       "  'home_score': 1,\n",
       "  'away_score': 3,\n",
       "  'winner': 'Away'},\n",
       " 73983: {'home_team': 'Mets',\n",
       "  'away_team': 'Phillies',\n",
       "  'home_score': 6,\n",
       "  'away_score': 0,\n",
       "  'winner': 'Home'},\n",
       " 73985: {'home_team': 'Rays',\n",
       "  'away_team': 'Orioles',\n",
       "  'home_score': 4,\n",
       "  'away_score': 1,\n",
       "  'winner': 'Home'},\n",
       " 73990: {'home_team': 'White Sox',\n",
       "  'away_team': 'Tigers',\n",
       "  'home_score': 5,\n",
       "  'away_score': 3,\n",
       "  'winner': 'Home'},\n",
       " 73991: {'home_team': 'Royals',\n",
       "  'away_team': 'Dodgers',\n",
       "  'home_score': 4,\n",
       "  'away_score': 0,\n",
       "  'winner': 'Home'},\n",
       " 73995: {'home_team': 'Astros',\n",
       "  'away_team': 'Athletics',\n",
       "  'home_score': 6,\n",
       "  'away_score': 3,\n",
       "  'winner': 'Home'},\n",
       " 73986: {'home_team': 'Cardinals',\n",
       "  'away_team': 'Brewers',\n",
       "  'home_score': 6,\n",
       "  'away_score': 3,\n",
       "  'winner': 'Home'},\n",
       " 73993: {'home_team': 'Rangers',\n",
       "  'away_team': 'Mariners',\n",
       "  'home_score': 5,\n",
       "  'away_score': 3,\n",
       "  'winner': 'Home'},\n",
       " 73994: {'home_team': 'Rockies',\n",
       "  'away_team': 'Diamondbacks',\n",
       "  'home_score': 4,\n",
       "  'away_score': 7,\n",
       "  'winner': 'Away'},\n",
       " 73987: {'home_team': 'Giants',\n",
       "  'away_team': 'Pirates',\n",
       "  'home_score': 8,\n",
       "  'away_score': 7,\n",
       "  'winner': 'Home'},\n",
       " 73989: {'home_team': 'Angels',\n",
       "  'away_team': 'Twins',\n",
       "  'home_score': 4,\n",
       "  'away_score': 2,\n",
       "  'winner': 'Home'},\n",
       " 73992: {'home_team': 'Red Sox',\n",
       "  'away_team': 'Yankees',\n",
       "  'home_score': 3,\n",
       "  'away_score': 0,\n",
       "  'winner': 'Home'}}"
      ]
     },
     "execution_count": 2,
     "metadata": {},
     "output_type": "execute_result"
    }
   ],
   "source": [
    "score_match_dict = get_mlb_scores(date)\n",
    "score_match_dict"
   ]
  },
  {
   "cell_type": "code",
   "execution_count": 3,
   "metadata": {},
   "outputs": [
    {
     "ename": "NameError",
     "evalue": "name 'xtra_dict' is not defined",
     "output_type": "error",
     "traceback": [
      "\u001b[0;31m---------------------------------------------------------------------------\u001b[0m",
      "\u001b[0;31mNameError\u001b[0m                                 Traceback (most recent call last)",
      "\u001b[1;32m/home/madis/sandbox/sports-chirp/notebooks/mlb.ipynb Cell 4'\u001b[0m in \u001b[0;36m<cell line: 2>\u001b[0;34m()\u001b[0m\n\u001b[1;32m      <a href='vscode-notebook-cell:/home/madis/sandbox/sports-chirp/notebooks/mlb.ipynb#ch0000002?line=0'>1</a>\u001b[0m odds_match_dict \u001b[39m=\u001b[39m get_mlb_odds(score_match_dict, date)\n\u001b[0;32m----> <a href='vscode-notebook-cell:/home/madis/sandbox/sports-chirp/notebooks/mlb.ipynb#ch0000002?line=1'>2</a>\u001b[0m xtra_dict\n",
      "\u001b[0;31mNameError\u001b[0m: name 'xtra_dict' is not defined"
     ]
    }
   ],
   "source": [
    "odds_match_dict = get_mlb_odds(score_match_dict, date)\n",
    "odds_match_dict"
   ]
  },
  {
   "cell_type": "code",
   "execution_count": 4,
   "metadata": {},
   "outputs": [
    {
     "data": {
      "text/plain": [
       "{73976: 'Away',\n",
       " 73971: 'Home',\n",
       " 73975: 'Away',\n",
       " 73988: 'Away',\n",
       " 73982: 'Away',\n",
       " 73984: 'Home',\n",
       " 73985: 'Home',\n",
       " 73981: 'Away',\n",
       " 73983: 'Home',\n",
       " 73993: 'Away',\n",
       " 73995: 'Home',\n",
       " 73991: 'Away',\n",
       " 73986: 'Home',\n",
       " 73990: 'Home',\n",
       " 73994: 'Home',\n",
       " 73987: 'Home',\n",
       " 73989: 'Away',\n",
       " 73992: 'Away'}"
      ]
     },
     "execution_count": 4,
     "metadata": {},
     "output_type": "execute_result"
    }
   ],
   "source": [
    "odds_match_dict"
   ]
  },
  {
   "cell_type": "code",
   "execution_count": 5,
   "metadata": {},
   "outputs": [],
   "source": [
    "# get lists of correct and incorrect predictions\n",
    "correct_ids = []\n",
    "upset_ids = []\n",
    "\n",
    "for match_id in odds_match_dict.keys():\n",
    "    if odds_match_dict[match_id]!=score_match_dict[match_id]['winner']:\n",
    "       upset_ids.append(match_id) \n",
    "    else:\n",
    "        correct_ids.append(match_id)\n",
    "\n",
    "def create_tweet(correct_ids, upset_ids, score_match_dict, date='2022-08-11'):\n",
    "    tweet_text = str('#MLB Scores {date}\\n\\n').format(date=date)\n",
    "    tweet_text=tweet_text+str(\"UPSETS: \\n\")\n",
    "    for id in upset_ids:\n",
    "        score_match_dict[id]\n",
    "        tweet_text=tweet_text+str(\"{home_team}: {home_score} - {away_team}: {away_score} \\n\").format(\n",
    "            home_team=score_match_dict[id]['home_team'], \n",
    "            home_score=score_match_dict[id]['home_score'], \n",
    "            away_team=score_match_dict[id]['away_team'], \n",
    "            away_score=score_match_dict[id]['away_score'])\n",
    "\n",
    "    tweet_text=tweet_text+str(\"\\n EXPECTED: \\n\")\n",
    "    for id in correct_ids:\n",
    "        score_match_dict[id]\n",
    "        tweet_text=tweet_text+(str(\"{home_team}: {home_score} - {away_team}: {away_score} \\n\").format(\n",
    "            home_team=score_match_dict[id]['home_team'], \n",
    "            home_score=score_match_dict[id]['home_score'], \n",
    "            away_team=score_match_dict[id]['away_team'], \n",
    "            away_score=score_match_dict[id]['away_score']))\n",
    "\n",
    "    if len(tweet_text)>=280:\n",
    "        tweet_text_list = tweet_text.split('EXPECTED')\n",
    "        tweet_text_list[1]='EXPECTED'+tweet_text_list[1]\n",
    "    else:\n",
    "        tweet_text_list=[tweet_text]\n",
    "\n",
    "    return tweet_text_list\n",
    "\n",
    "tweet_text_list = create_tweet(correct_ids, upset_ids, score_match_dict, date=date)"
   ]
  },
  {
   "cell_type": "code",
   "execution_count": 6,
   "metadata": {},
   "outputs": [
    {
     "name": "stdout",
     "output_type": "stream",
     "text": [
      "#MLB Scores 2022-08-14\n",
      "\n",
      "UPSETS: \n",
      "Angels: 5 - Twins: 3 \n",
      "Jays: 2 - Guardians: 7 \n",
      "Reds: 8 - Cubs: 5 \n",
      "Rangers: 5 - Mariners: 3 \n",
      "Royals: 4 - Dodgers: 0 \n",
      "Rockies: 4 - Diamondbacks: 7 \n",
      "Angels: 4 - Twins: 2 \n",
      "Red Sox: 3 - Yankees: 0 \n",
      "\n",
      " \n",
      "EXPECTED: \n",
      "Rockies: 0 - Diamondbacks: 6 \n",
      "Giants: 2 - Pirates: 0 \n",
      "Nationals: 0 - Padres: 6 \n",
      "Marlins: 1 - Braves: 3 \n",
      "Rays: 4 - Orioles: 1 \n",
      "Mets: 6 - Phillies: 0 \n",
      "Astros: 6 - Athletics: 3 \n",
      "Cardinals: 6 - Brewers: 3 \n",
      "White Sox: 5 - Tigers: 3 \n",
      "Giants: 8 - Pirates: 7 \n",
      "\n"
     ]
    }
   ],
   "source": [
    "for tweet_text in (tweet_text_list):\n",
    "    print(tweet_text)"
   ]
  }
 ],
 "metadata": {
  "kernelspec": {
   "display_name": "Python 3.8.10 ('venv': venv)",
   "language": "python",
   "name": "python3"
  },
  "language_info": {
   "codemirror_mode": {
    "name": "ipython",
    "version": 3
   },
   "file_extension": ".py",
   "mimetype": "text/x-python",
   "name": "python",
   "nbconvert_exporter": "python",
   "pygments_lexer": "ipython3",
   "version": "3.8.10"
  },
  "orig_nbformat": 4,
  "vscode": {
   "interpreter": {
    "hash": "04947aa7f04f6be4977bb7e62ffe55cc1147f471b2810ba0af9d44becee87118"
   }
  }
 },
 "nbformat": 4,
 "nbformat_minor": 2
}
