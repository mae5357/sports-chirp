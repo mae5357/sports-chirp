{
 "cells": [
  {
   "cell_type": "code",
   "execution_count": 1,
   "metadata": {},
   "outputs": [],
   "source": [
    "import requests\n",
    "import json\n",
    "import os\n",
    "\n",
    "# load the environment variables\n",
    "from dotenv import load_dotenv\n",
    "load_dotenv()\n",
    "\n",
    "# Bring your packages onto the path\n",
    "import sys\n",
    "sys.path.append(os.path.abspath(os.path.join('..', 'src')))\n",
    "\n",
    "# import functions from src/mlb_scores.py\n",
    "from mlb_scores import get_mlb_scores, get_mlb_odds, get_correct_upsets, create_tweet"
   ]
  },
  {
   "cell_type": "code",
   "execution_count": 2,
   "metadata": {},
   "outputs": [],
   "source": [
    "# get yesterday's date as string\n",
    "import datetime\n",
    "yesterday = datetime.date.today() - datetime.timedelta(days=1)\n",
    "yesterday = yesterday.strftime('%Y-%m-%d')\n",
    "\n",
    "# date = '2022-08-14'\n",
    "date = yesterday"
   ]
  },
  {
   "cell_type": "code",
   "execution_count": 3,
   "metadata": {},
   "outputs": [
    {
     "name": "stdout",
     "output_type": "stream",
     "text": [
      "Connected to MLB API\n"
     ]
    },
    {
     "data": {
      "text/plain": [
       "{73663: {'home_team': 'Guardians',\n",
       "  'away_team': 'Tigers',\n",
       "  'home_score': 4,\n",
       "  'away_score': 1,\n",
       "  'winner': 'Home'},\n",
       " 74002: {'home_team': 'Guardians',\n",
       "  'away_team': 'Tigers',\n",
       "  'home_score': 5,\n",
       "  'away_score': 7,\n",
       "  'winner': 'Away'},\n",
       " 74005: {'home_team': 'Reds',\n",
       "  'away_team': 'Phillies',\n",
       "  'home_score': 3,\n",
       "  'away_score': 4,\n",
       "  'winner': 'Away'},\n",
       " 74006: {'home_team': 'Marlins',\n",
       "  'away_team': 'Padres',\n",
       "  'home_score': 3,\n",
       "  'away_score': 0,\n",
       "  'winner': 'Home'},\n",
       " 73999: {'home_team': 'Nationals',\n",
       "  'away_team': 'Cubs',\n",
       "  'home_score': 5,\n",
       "  'away_score': 4,\n",
       "  'winner': 'Home'},\n",
       " 74000: {'home_team': 'Yankees',\n",
       "  'away_team': 'Rays',\n",
       "  'home_score': 0,\n",
       "  'away_score': 4,\n",
       "  'winner': 'Away'},\n",
       " 73997: {'home_team': 'Jays',\n",
       "  'away_team': 'Orioles',\n",
       "  'home_score': 3,\n",
       "  'away_score': 7,\n",
       "  'winner': 'Away'},\n",
       " 74004: {'home_team': 'Braves',\n",
       "  'away_team': 'Mets',\n",
       "  'home_score': 13,\n",
       "  'away_score': 1,\n",
       "  'winner': 'Home'},\n",
       " 74007: {'home_team': 'Twins',\n",
       "  'away_team': 'Royals',\n",
       "  'home_score': 4,\n",
       "  'away_score': 2,\n",
       "  'winner': 'Home'}}"
      ]
     },
     "execution_count": 3,
     "metadata": {},
     "output_type": "execute_result"
    }
   ],
   "source": [
    "score_match_dict = get_mlb_scores(date)\n",
    "score_match_dict"
   ]
  },
  {
   "cell_type": "code",
   "execution_count": 4,
   "metadata": {},
   "outputs": [
    {
     "data": {
      "text/plain": [
       "{73663: 'Home',\n",
       " 74005: 'Away',\n",
       " 73999: 'Away',\n",
       " 74006: 'Away',\n",
       " 74000: 'Home',\n",
       " 74002: 'Home',\n",
       " 74004: 'Home',\n",
       " 74007: 'Home',\n",
       " 73997: 'Home'}"
      ]
     },
     "execution_count": 4,
     "metadata": {},
     "output_type": "execute_result"
    }
   ],
   "source": [
    "odds_match_dict = get_mlb_odds(score_match_dict, date)\n",
    "odds_match_dict"
   ]
  },
  {
   "cell_type": "code",
   "execution_count": 5,
   "metadata": {},
   "outputs": [
    {
     "data": {
      "text/plain": [
       "{73663: 'Home',\n",
       " 74005: 'Away',\n",
       " 73999: 'Away',\n",
       " 74006: 'Away',\n",
       " 74000: 'Home',\n",
       " 74002: 'Home',\n",
       " 74004: 'Home',\n",
       " 74007: 'Home',\n",
       " 73997: 'Home'}"
      ]
     },
     "execution_count": 5,
     "metadata": {},
     "output_type": "execute_result"
    }
   ],
   "source": [
    "odds_match_dict"
   ]
  },
  {
   "cell_type": "code",
   "execution_count": 6,
   "metadata": {},
   "outputs": [],
   "source": [
    "# get lists of correct and incorrect predictions\n",
    "correct_ids = []\n",
    "upset_ids = []\n",
    "\n",
    "for match_id in odds_match_dict.keys():\n",
    "    if odds_match_dict[match_id]!=score_match_dict[match_id]['winner']:\n",
    "       upset_ids.append(match_id) \n",
    "    else:\n",
    "        correct_ids.append(match_id)\n",
    "\n",
    "def create_tweet(correct_ids, upset_ids, score_match_dict, date='2022-08-11'):\n",
    "    tweet_text = str('#MLB Scores {date}\\n\\n').format(date=date)\n",
    "    tweet_text=tweet_text+str(\"UPSETS: \\n\")\n",
    "    for id in upset_ids:\n",
    "        score_match_dict[id]\n",
    "        tweet_text=tweet_text+str(\"{home_team}: {home_score} - {away_team}: {away_score} \\n\").format(\n",
    "            home_team=score_match_dict[id]['home_team'], \n",
    "            home_score=score_match_dict[id]['home_score'], \n",
    "            away_team=score_match_dict[id]['away_team'], \n",
    "            away_score=score_match_dict[id]['away_score'])\n",
    "\n",
    "    tweet_text=tweet_text+str(\"\\n EXPECTED: \\n\")\n",
    "    for id in correct_ids:\n",
    "        score_match_dict[id]\n",
    "        tweet_text=tweet_text+(str(\"{home_team}: {home_score} - {away_team}: {away_score} \\n\").format(\n",
    "            home_team=score_match_dict[id]['home_team'], \n",
    "            home_score=score_match_dict[id]['home_score'], \n",
    "            away_team=score_match_dict[id]['away_team'], \n",
    "            away_score=score_match_dict[id]['away_score']))\n",
    "\n",
    "    if len(tweet_text)>=280:\n",
    "        tweet_text_list = tweet_text.split('EXPECTED')\n",
    "        tweet_text_list[1]='EXPECTED'+tweet_text_list[1]\n",
    "    else:\n",
    "        tweet_text_list=[tweet_text]\n",
    "\n",
    "    return tweet_text_list\n",
    "\n",
    "tweet_text_list = create_tweet(correct_ids, upset_ids, score_match_dict, date=date)"
   ]
  },
  {
   "cell_type": "code",
   "execution_count": 7,
   "metadata": {},
   "outputs": [
    {
     "name": "stdout",
     "output_type": "stream",
     "text": [
      "#MLB Scores 2022-08-15\n",
      "\n",
      "UPSETS: \n",
      "Nationals: 5 - Cubs: 4 \n",
      "Marlins: 3 - Padres: 0 \n",
      "Yankees: 0 - Rays: 4 \n",
      "Guardians: 5 - Tigers: 7 \n",
      "Jays: 3 - Orioles: 7 \n",
      "\n",
      " EXPECTED: \n",
      "Guardians: 4 - Tigers: 1 \n",
      "Reds: 3 - Phillies: 4 \n",
      "Braves: 13 - Mets: 1 \n",
      "Twins: 4 - Royals: 2 \n",
      "\n"
     ]
    }
   ],
   "source": [
    "for tweet_text in (tweet_text_list):\n",
    "    print(tweet_text)"
   ]
  }
 ],
 "metadata": {
  "kernelspec": {
   "display_name": "Python 3.8.10 ('venv': venv)",
   "language": "python",
   "name": "python3"
  },
  "language_info": {
   "codemirror_mode": {
    "name": "ipython",
    "version": 3
   },
   "file_extension": ".py",
   "mimetype": "text/x-python",
   "name": "python",
   "nbconvert_exporter": "python",
   "pygments_lexer": "ipython3",
   "version": "3.8.10"
  },
  "orig_nbformat": 4,
  "vscode": {
   "interpreter": {
    "hash": "04947aa7f04f6be4977bb7e62ffe55cc1147f471b2810ba0af9d44becee87118"
   }
  }
 },
 "nbformat": 4,
 "nbformat_minor": 2
}
