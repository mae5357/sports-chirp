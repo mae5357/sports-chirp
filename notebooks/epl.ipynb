{
 "cells": [
  {
   "cell_type": "markdown",
   "metadata": {},
   "source": [
    "EPL: league 39"
   ]
  },
  {
   "cell_type": "code",
   "execution_count": 5,
   "metadata": {},
   "outputs": [
    {
     "data": {
      "text/plain": [
       "True"
      ]
     },
     "execution_count": 5,
     "metadata": {},
     "output_type": "execute_result"
    }
   ],
   "source": [
    "import requests\n",
    "import json\n",
    "import os\n",
    "\n",
    "from dotenv import load_dotenv\n",
    "load_dotenv()\n"
   ]
  },
  {
   "cell_type": "markdown",
   "metadata": {},
   "source": [
    "# Get Scores from EPL on date"
   ]
  },
  {
   "cell_type": "code",
   "execution_count": 6,
   "metadata": {},
   "outputs": [],
   "source": [
    "date = '2022-08-14'"
   ]
  },
  {
   "cell_type": "code",
   "execution_count": 7,
   "metadata": {},
   "outputs": [],
   "source": [
    "# get all the ids of a match for a url \n",
    "url = \"https://v3.football.api-sports.io/fixtures\"\n",
    "\n",
    "payload={'league':39, 'season':2022, 'date': date}\n",
    "\n",
    "headers = {\n",
    "    'x-rapidapi-key': os.environ.get(\"RAPIDAPI_KEY\"),\n",
    "  'x-rapidapi-host': 'v3.football.api-sports.io'\n",
    "}\n",
    "\n",
    "fixtures_response = json.loads(requests.request(\"GET\", url, headers=headers, params=payload).text)\n"
   ]
  },
  {
   "cell_type": "code",
   "execution_count": 8,
   "metadata": {},
   "outputs": [],
   "source": [
    "score_match_dict = {}\n",
    "for match in fixtures_response['response']:\n",
    "    # get the fixture id\n",
    "    fixture = match['fixture']['id']\n",
    "    \n",
    "     # get the team names\n",
    "    home_team = match['teams']['home']['name']\n",
    "    away_team = match['teams']['away']['name']\n",
    "\n",
    "    # get the score\n",
    "    home_score = match['score']['fulltime']['home']\n",
    "    away_score = match['score']['fulltime']['away']\n",
    "\n",
    "    # who won?\n",
    "    if home_score > away_score:\n",
    "        winner = 'Home'\n",
    "    elif home_score < away_score:\n",
    "        winner = 'Away'\n",
    "    else:\n",
    "        winner = 'Draw'\n",
    "\n",
    "    score_match_dict[fixture]={'home_team':home_team, 'away_team':away_team, 'home_score':home_score, 'away_score':away_score, 'winner':winner}\n"
   ]
  },
  {
   "cell_type": "markdown",
   "metadata": {},
   "source": [
    "# Get the \"Odds of Winning\" for each game on the date"
   ]
  },
  {
   "cell_type": "code",
   "execution_count": 9,
   "metadata": {},
   "outputs": [],
   "source": [
    "\n",
    "url = \"https://v3.football.api-sports.io/odds\"\n",
    "\n",
    "payload={'league':39, 'season':2022, 'date': date}\n",
    "\n",
    "headers = {\n",
    "    'x-rapidapi-key': os.environ.get(\"RAPIDAPI_KEY\"),\n",
    "  'x-rapidapi-host': 'v3.football.api-sports.io'\n",
    "}\n",
    "\n",
    "odds_response = json.loads(requests.request(\"GET\", url, headers=headers, params=payload).text)\n"
   ]
  },
  {
   "cell_type": "code",
   "execution_count": 10,
   "metadata": {},
   "outputs": [],
   "source": [
    "odds_match_dict = {}\n",
    "for match in odds_response['response']:\n",
    "\n",
    "    # check to make sure 0 == match winner\n",
    "    if match['bookmakers'][0]['bets'][0]['name'] != 'Match Winner':\n",
    "        print('oh no! first id is not match winner')\n",
    "\n",
    "    odd_dict = {}\n",
    "    for value in match['bookmakers'][0]['bets'][0]['values']:\n",
    "        odd_dict[value['odd']] = value['value']\n",
    "\n",
    "    pred_win = odd_dict[min(odd_dict.keys())]\n",
    "\n",
    "    \n",
    "    \n",
    "    odds_match_dict[match['fixture']['id']] = pred_win"
   ]
  },
  {
   "cell_type": "markdown",
   "metadata": {},
   "source": [
    "# Print Outputs"
   ]
  },
  {
   "cell_type": "code",
   "execution_count": 11,
   "metadata": {},
   "outputs": [
    {
     "name": "stdout",
     "output_type": "stream",
     "text": [
      "#EPL Scores 2022-08-14\n",
      "UPSETS:\n",
      "Chelsea: 2 - Tottenham: 2\n",
      "Nottingham Forest: 1 - West Ham: 0\n",
      "\n",
      "EXPECTED:\n"
     ]
    }
   ],
   "source": [
    "# get lists of correct and incorrect predictions\n",
    "correct_ids = []\n",
    "upset_ids = []\n",
    "for match_id in odds_match_dict.keys():\n",
    "    if odds_match_dict[match_id]!=score_match_dict[match_id]['winner']:\n",
    "       upset_ids.append(match_id) \n",
    "    else:\n",
    "        correct_ids.append(match_id)\n",
    "\n",
    "print('#EPL Scores {date}'.format(date=date))\n",
    "print(\"SURPRISES:\")\n",
    "for id in upset_ids:\n",
    "    score_match_dict[id]\n",
    "    print(str(\"{home_team}: {home_score} - {away_team}: {away_score}\").format(\n",
    "        home_team=score_match_dict[id]['home_team'], \n",
    "        home_score=score_match_dict[id]['home_score'], \n",
    "        away_team=score_match_dict[id]['away_team'], \n",
    "        away_score=score_match_dict[id]['away_score']))\n",
    "\n",
    "print(\"\\nEXPECTED:\")\n",
    "for id in correct_ids:\n",
    "    score_match_dict[id]\n",
    "    print(str(\"{home_team}: {home_score} - {away_team}: {away_score}\").format(\n",
    "        home_team=score_match_dict[id]['home_team'], \n",
    "        home_score=score_match_dict[id]['home_score'], \n",
    "        away_team=score_match_dict[id]['away_team'], \n",
    "        away_score=score_match_dict[id]['away_score']))"
   ]
  }
 ],
 "metadata": {
  "kernelspec": {
   "display_name": "Python 3.8.10 ('venv': venv)",
   "language": "python",
   "name": "python3"
  },
  "language_info": {
   "codemirror_mode": {
    "name": "ipython",
    "version": 3
   },
   "file_extension": ".py",
   "mimetype": "text/x-python",
   "name": "python",
   "nbconvert_exporter": "python",
   "pygments_lexer": "ipython3",
   "version": "3.8.10"
  },
  "orig_nbformat": 4,
  "vscode": {
   "interpreter": {
    "hash": "41771bc1f10667d27b3638dda3182fd946701118641fe6d3cee85d76be2610c1"
   }
  }
 },
 "nbformat": 4,
 "nbformat_minor": 2
}
