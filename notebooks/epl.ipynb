{
 "cells": [
  {
   "cell_type": "markdown",
   "metadata": {},
   "source": [
    "EPL: league 39"
   ]
  },
  {
   "cell_type": "code",
   "execution_count": 38,
   "metadata": {},
   "outputs": [],
   "source": [
    "import requests\n",
    "import json\n",
    "import os\n",
    "\n",
    "# load the environment variables\n",
    "from dotenv import load_dotenv\n",
    "load_dotenv()\n",
    "\n",
    "# Bring your packages onto the path\n",
    "import sys\n",
    "sys.path.append(os.path.abspath(os.path.join('..', 'src')))\n",
    "\n",
    "# import functions from src/mlb_scores.py\n",
    "from epl_scores import get_epl_scores, get_epl_odds, get_correct_upsets, create_tweet\n"
   ]
  },
  {
   "cell_type": "markdown",
   "metadata": {},
   "source": [
    "# Get Scores from EPL on date"
   ]
  },
  {
   "cell_type": "code",
   "execution_count": 39,
   "metadata": {},
   "outputs": [],
   "source": [
    "date = '2022-08-14'"
   ]
  },
  {
   "cell_type": "code",
   "execution_count": 40,
   "metadata": {},
   "outputs": [
    {
     "data": {
      "text/plain": [
       "{867963: {'home_team': 'Nottingham Forest',\n",
       "  'away_team': 'West Ham',\n",
       "  'home_score': 1,\n",
       "  'away_score': 0,\n",
       "  'winner': 'Home'},\n",
       " 867960: {'home_team': 'Chelsea',\n",
       "  'away_team': 'Tottenham',\n",
       "  'home_score': 2,\n",
       "  'away_score': 2,\n",
       "  'winner': 'Draw'}}"
      ]
     },
     "execution_count": 40,
     "metadata": {},
     "output_type": "execute_result"
    }
   ],
   "source": [
    "score_match_dict = get_epl_scores(date)\n",
    "score_match_dict"
   ]
  },
  {
   "cell_type": "markdown",
   "metadata": {},
   "source": [
    "# Get the \"Odds of Winning\" for each game on the date"
   ]
  },
  {
   "cell_type": "code",
   "execution_count": 41,
   "metadata": {},
   "outputs": [
    {
     "data": {
      "text/plain": [
       "{867960: 'Home', 867963: 'Away'}"
      ]
     },
     "execution_count": 41,
     "metadata": {},
     "output_type": "execute_result"
    }
   ],
   "source": [
    "odds_match_dict = get_epl_odds(date)\n",
    "odds_match_dict"
   ]
  },
  {
   "cell_type": "markdown",
   "metadata": {},
   "source": [
    "# Print Outputs"
   ]
  },
  {
   "cell_type": "code",
   "execution_count": 42,
   "metadata": {},
   "outputs": [
    {
     "name": "stdout",
     "output_type": "stream",
     "text": [
      "#EPL Scores 2022-08-14\n",
      "SURPRISES:\n",
      "Chelsea: 2 - Tottenham: 2\n",
      "Nottingham Forest: 1 - West Ham: 0\n"
     ]
    }
   ],
   "source": [
    "# get lists of correct and incorrect predictions\n",
    "correct_ids = []\n",
    "upset_ids = []\n",
    "for match_id in odds_match_dict.keys():\n",
    "    if odds_match_dict[match_id]!=score_match_dict[match_id]['winner']:\n",
    "       upset_ids.append(match_id) \n",
    "    else:\n",
    "        correct_ids.append(match_id)\n",
    "\n",
    "print('#EPL Scores {date}'.format(date=date))\n",
    "if len(upset_ids)>0:\n",
    "    print(\"SURPRISES:\")\n",
    "    for id in upset_ids:\n",
    "        score_match_dict[id]\n",
    "        print(str(\"{home_team}: {home_score} - {away_team}: {away_score}\").format(\n",
    "            home_team=score_match_dict[id]['home_team'], \n",
    "            home_score=score_match_dict[id]['home_score'], \n",
    "            away_team=score_match_dict[id]['away_team'], \n",
    "            away_score=score_match_dict[id]['away_score']))\n",
    "if len(correct_ids)>0:\n",
    "    print(\"\\nEXPECTED:\")\n",
    "    for id in correct_ids:\n",
    "        score_match_dict[id]\n",
    "        print(str(\"{home_team}: {home_score} - {away_team}: {away_score}\").format(\n",
    "            home_team=score_match_dict[id]['home_team'], \n",
    "            home_score=score_match_dict[id]['home_score'], \n",
    "            away_team=score_match_dict[id]['away_team'], \n",
    "            away_score=score_match_dict[id]['away_score']))"
   ]
  }
 ],
 "metadata": {
  "kernelspec": {
   "display_name": "Python 3.8.10 ('venv': venv)",
   "language": "python",
   "name": "python3"
  },
  "language_info": {
   "codemirror_mode": {
    "name": "ipython",
    "version": 3
   },
   "file_extension": ".py",
   "mimetype": "text/x-python",
   "name": "python",
   "nbconvert_exporter": "python",
   "pygments_lexer": "ipython3",
   "version": "3.8.10"
  },
  "orig_nbformat": 4,
  "vscode": {
   "interpreter": {
    "hash": "04947aa7f04f6be4977bb7e62ffe55cc1147f471b2810ba0af9d44becee87118"
   }
  }
 },
 "nbformat": 4,
 "nbformat_minor": 2
}
