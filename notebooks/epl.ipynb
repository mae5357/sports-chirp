{
 "cells": [
  {
   "cell_type": "markdown",
   "metadata": {},
   "source": [
    "# English Premier League\n",
    "This notebook get the scores for the most recent games in the English Premier League and posts them on Twitter. Instead of simply listing all the scores, it prints \"surprises\" (teams that were expected to lose but ended up winning) first. Using the betting odds predictions we can see if a team that was expected to lose actually won.\n",
    "\n",
    "Two future projects I am working on:\n",
    "- printing \"surprising\" statistics pere player. For instance, if a player had 20 shots on target, but none went it.\n",
    "- I would like to automatically call these API's daily but I don't have a way to deploy to the cloud and don't have a server at home to run a simple cron job."
   ]
  },
  {
   "cell_type": "code",
   "execution_count": 7,
   "metadata": {},
   "outputs": [],
   "source": [
    "import requests\n",
    "import json\n",
    "import os\n",
    "\n",
    "# load the environment variables\n",
    "from dotenv import load_dotenv\n",
    "load_dotenv()\n",
    "\n",
    "# Bring your packages onto the path\n",
    "import sys\n",
    "sys.path.append(os.path.abspath(os.path.join('..', 'src')))\n",
    "\n",
    "# import functions from src/mlb_scores.py\n",
    "from epl_scores import get_epl_scores, get_epl_odds, get_correct_upsets, create_tweet\n"
   ]
  },
  {
   "cell_type": "code",
   "execution_count": 2,
   "metadata": {},
   "outputs": [],
   "source": [
    "# get yesterday's date as string\n",
    "import datetime\n",
    "yesterday = datetime.date.today() - datetime.timedelta(days=1)\n",
    "yesterday = yesterday.strftime('%Y-%m-%d')\n",
    "\n",
    "# date = '2022-08-14'\n",
    "date = yesterday"
   ]
  },
  {
   "cell_type": "markdown",
   "metadata": {},
   "source": [
    "# Get Scores from EPL on date"
   ]
  },
  {
   "cell_type": "code",
   "execution_count": null,
   "metadata": {},
   "outputs": [],
   "source": [
    "def get_epl_scores(date='2022-08-06'):\n",
    "    \"\"\"\n",
    "    Uses API-sports to get the scores of the matches for the given date. Returns a dictionary of match_id: {home_team, home_score, away_team, away_score}\n",
    "\n",
    "    \"\"\"\n",
    "    # get all the ids of a match for a url\n",
    "    url = \"https://v3.football.api-sports.io/fixtures\"\n",
    "\n",
    "    payload = {'league': 39, 'season': 2022, 'date': date}\n",
    "\n",
    "    headers = {\n",
    "        'x-rapidapi-key': os.environ.get(\"RAPIDAPI_KEY\"),\n",
    "        'x-rapidapi-host': 'v3.football.api-sports.io'\n",
    "    }\n",
    "\n",
    "    fixtures_response = json.loads(requests.request(\n",
    "        \"GET\", url, headers=headers, params=payload).text)\n",
    "\n",
    "    assert (fixtures_response['errors'] == [])\n",
    "\n",
    "    score_match_dict = {}\n",
    "    for match in fixtures_response['response']:\n",
    "        # get the fixture id\n",
    "        fixture = match['fixture']['id']\n",
    "\n",
    "        # get the team names\n",
    "        home_team = match['teams']['home']['name']\n",
    "        away_team = match['teams']['away']['name']\n",
    "\n",
    "        # get the score\n",
    "        home_score = match['score']['fulltime']['home']\n",
    "        away_score = match['score']['fulltime']['away']\n",
    "\n",
    "        # who won?\n",
    "        if home_score > away_score:\n",
    "            winner = 'Home'\n",
    "        elif home_score < away_score:\n",
    "            winner = 'Away'\n",
    "        else:\n",
    "            winner = 'Draw'\n",
    "\n",
    "        score_match_dict[fixture] = {'home_team': home_team, 'away_team': away_team,\n",
    "                                     'home_score': home_score, 'away_score': away_score, 'winner': winner}\n",
    "\n",
    "    # returns a dictionary of the match id and the teams and score\n",
    "    return score_match_dict"
   ]
  },
  {
   "cell_type": "code",
   "execution_count": 3,
   "metadata": {},
   "outputs": [
    {
     "data": {
      "text/plain": [
       "{867976: {'home_team': 'Arsenal',\n",
       "  'away_team': 'Fulham',\n",
       "  'home_score': 2,\n",
       "  'away_score': 1,\n",
       "  'winner': 'Home'},\n",
       " 867978: {'home_team': 'Brentford',\n",
       "  'away_team': 'Everton',\n",
       "  'home_score': 1,\n",
       "  'away_score': 1,\n",
       "  'winner': 'Draw'},\n",
       " 867979: {'home_team': 'Brighton',\n",
       "  'away_team': 'Leeds',\n",
       "  'home_score': 1,\n",
       "  'away_score': 0,\n",
       "  'winner': 'Home'},\n",
       " 867980: {'home_team': 'Chelsea',\n",
       "  'away_team': 'Leicester',\n",
       "  'home_score': 2,\n",
       "  'away_score': 1,\n",
       "  'winner': 'Home'},\n",
       " 867981: {'home_team': 'Liverpool',\n",
       "  'away_team': 'Bournemouth',\n",
       "  'home_score': 9,\n",
       "  'away_score': 0,\n",
       "  'winner': 'Home'},\n",
       " 867982: {'home_team': 'Manchester City',\n",
       "  'away_team': 'Crystal Palace',\n",
       "  'home_score': 4,\n",
       "  'away_score': 2,\n",
       "  'winner': 'Home'},\n",
       " 867984: {'home_team': 'Southampton',\n",
       "  'away_team': 'Manchester United',\n",
       "  'home_score': 0,\n",
       "  'away_score': 1,\n",
       "  'winner': 'Away'}}"
      ]
     },
     "execution_count": 3,
     "metadata": {},
     "output_type": "execute_result"
    }
   ],
   "source": [
    "score_match_dict = get_epl_scores(date)\n",
    "score_match_dict"
   ]
  },
  {
   "cell_type": "markdown",
   "metadata": {},
   "source": [
    "# Get the \"Odds of Winning\" for each game on the date"
   ]
  },
  {
   "cell_type": "code",
   "execution_count": null,
   "metadata": {},
   "outputs": [],
   "source": [
    "def get_epl_odds(date='2022-08-06'):\n",
    "    url = \"https://v3.football.api-sports.io/odds\"\n",
    "\n",
    "    payload = {'league': 39, 'season': 2022, 'date': date}\n",
    "\n",
    "    headers = {\n",
    "        'x-rapidapi-key': os.environ.get(\"RAPIDAPI_KEY\"),\n",
    "        'x-rapidapi-host': 'v3.football.api-sports.io'\n",
    "    }\n",
    "\n",
    "    odds_response = json.loads(requests.request(\n",
    "        \"GET\", url, headers=headers, params=payload).text)\n",
    "\n",
    "    odds_match_dict = {}\n",
    "    for match in odds_response['response']:\n",
    "\n",
    "        assert (match['bookmakers'][0]['bets'][0]['name'] == 'Match Winner')\n",
    "\n",
    "        odd_dict = {}\n",
    "        for value in match['bookmakers'][0]['bets'][0]['values']:\n",
    "            odd_dict[value['odd']] = value['value']\n",
    "\n",
    "        pred_win = odd_dict[min(odd_dict.keys())]\n",
    "\n",
    "        odds_match_dict[match['fixture']['id']] = pred_win\n",
    "\n",
    "    return odds_match_dict\n",
    "\n"
   ]
  },
  {
   "cell_type": "code",
   "execution_count": 4,
   "metadata": {},
   "outputs": [
    {
     "data": {
      "text/plain": [
       "{867976: 'Home',\n",
       " 867978: 'Home',\n",
       " 867979: 'Home',\n",
       " 867980: 'Home',\n",
       " 867981: 'Home',\n",
       " 867982: 'Home',\n",
       " 867984: 'Away'}"
      ]
     },
     "execution_count": 4,
     "metadata": {},
     "output_type": "execute_result"
    }
   ],
   "source": [
    "odds_match_dict = get_epl_odds(date)\n",
    "odds_match_dict"
   ]
  },
  {
   "cell_type": "markdown",
   "metadata": {},
   "source": [
    "# Print Outputs"
   ]
  },
  {
   "cell_type": "code",
   "execution_count": 5,
   "metadata": {},
   "outputs": [
    {
     "name": "stdout",
     "output_type": "stream",
     "text": [
      "#EPL Scores 2022-08-27\n",
      "SURPRISES:\n",
      "Brentford: 1 - Everton: 1\n",
      "\n",
      "EXPECTED:\n",
      "Arsenal: 2 - Fulham: 1\n",
      "Brighton: 1 - Leeds: 0\n",
      "Chelsea: 2 - Leicester: 1\n",
      "Liverpool: 9 - Bournemouth: 0\n",
      "Manchester City: 4 - Crystal Palace: 2\n",
      "Southampton: 0 - Manchester United: 1\n"
     ]
    }
   ],
   "source": [
    "# get lists of correct and incorrect predictions\n",
    "correct_ids = []\n",
    "upset_ids = []\n",
    "for match_id in odds_match_dict.keys():\n",
    "    if odds_match_dict[match_id]!=score_match_dict[match_id]['winner']:\n",
    "       upset_ids.append(match_id) \n",
    "    else:\n",
    "        correct_ids.append(match_id)\n",
    "\n",
    "print('#EPL Scores {date}'.format(date=date))\n",
    "if len(upset_ids)>0:\n",
    "    print(\"SURPRISES:\")\n",
    "    for id in upset_ids:\n",
    "        score_match_dict[id]\n",
    "        print(str(\"{home_team}: {home_score} - {away_team}: {away_score}\").format(\n",
    "            home_team=score_match_dict[id]['home_team'], \n",
    "            home_score=score_match_dict[id]['home_score'], \n",
    "            away_team=score_match_dict[id]['away_team'], \n",
    "            away_score=score_match_dict[id]['away_score']))\n",
    "if len(correct_ids)>0:\n",
    "    print(\"\\nEXPECTED:\")\n",
    "    for id in correct_ids:\n",
    "        score_match_dict[id]\n",
    "        print(str(\"{home_team}: {home_score} - {away_team}: {away_score}\").format(\n",
    "            home_team=score_match_dict[id]['home_team'], \n",
    "            home_score=score_match_dict[id]['home_score'], \n",
    "            away_team=score_match_dict[id]['away_team'], \n",
    "            away_score=score_match_dict[id]['away_score']))"
   ]
  }
 ],
 "metadata": {
  "kernelspec": {
   "display_name": "Python 3.8.10 ('venv': venv)",
   "language": "python",
   "name": "python3"
  },
  "language_info": {
   "codemirror_mode": {
    "name": "ipython",
    "version": 3
   },
   "file_extension": ".py",
   "mimetype": "text/x-python",
   "name": "python",
   "nbconvert_exporter": "python",
   "pygments_lexer": "ipython3",
   "version": "3.8.10"
  },
  "orig_nbformat": 4,
  "vscode": {
   "interpreter": {
    "hash": "04947aa7f04f6be4977bb7e62ffe55cc1147f471b2810ba0af9d44becee87118"
   }
  }
 },
 "nbformat": 4,
 "nbformat_minor": 2
}
