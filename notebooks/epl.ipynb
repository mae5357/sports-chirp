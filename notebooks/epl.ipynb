{
 "cells": [
  {
   "cell_type": "markdown",
   "metadata": {},
   "source": [
    "EPL: league 39"
   ]
  },
  {
   "cell_type": "code",
   "execution_count": 3,
   "metadata": {},
   "outputs": [
    {
     "ename": "ModuleNotFoundError",
     "evalue": "No module named 'requests'",
     "output_type": "error",
     "traceback": [
      "\u001b[0;31m---------------------------------------------------------------------------\u001b[0m",
      "\u001b[0;31mModuleNotFoundError\u001b[0m                       Traceback (most recent call last)",
      "\u001b[1;32m/home/ebersole/sandbox/sports-chirp/notebooks/epl.ipynb Cell 2\u001b[0m in \u001b[0;36m<cell line: 1>\u001b[0;34m()\u001b[0m\n\u001b[0;32m----> <a href='vscode-notebook-cell:/home/ebersole/sandbox/sports-chirp/notebooks/epl.ipynb#ch0000001?line=0'>1</a>\u001b[0m \u001b[39mimport\u001b[39;00m \u001b[39mrequests\u001b[39;00m\n\u001b[1;32m      <a href='vscode-notebook-cell:/home/ebersole/sandbox/sports-chirp/notebooks/epl.ipynb#ch0000001?line=1'>2</a>\u001b[0m \u001b[39mimport\u001b[39;00m \u001b[39mjson\u001b[39;00m\n\u001b[1;32m      <a href='vscode-notebook-cell:/home/ebersole/sandbox/sports-chirp/notebooks/epl.ipynb#ch0000001?line=2'>3</a>\u001b[0m \u001b[39mimport\u001b[39;00m \u001b[39mos\u001b[39;00m\n",
      "\u001b[0;31mModuleNotFoundError\u001b[0m: No module named 'requests'"
     ]
    }
   ],
   "source": [
    "import requests\n",
    "import json\n",
    "import os\n",
    "\n",
    "from dotenv import load_dotenv\n",
    "load_dotenv()\n"
   ]
  },
  {
   "cell_type": "markdown",
   "metadata": {},
   "source": [
    "# Get Scores from EPL on date"
   ]
  },
  {
   "cell_type": "code",
   "execution_count": 56,
   "metadata": {},
   "outputs": [],
   "source": [
    "# get all the ids of a match for a url \n",
    "url = \"https://v3.football.api-sports.io/fixtures\"\n",
    "\n",
    "payload={'league':39, 'season':2022, 'date': '2022-08-06'}\n",
    "\n",
    "headers = {\n",
    "    'x-rapidapi-key': os.environ.get(\"RAPIDAPI_KEY\"),\n",
    "  'x-rapidapi-host': 'v3.football.api-sports.io'\n",
    "}\n",
    "\n",
    "fixtures_response = json.loads(requests.request(\"GET\", url, headers=headers, params=payload).text)\n"
   ]
  },
  {
   "cell_type": "code",
   "execution_count": 174,
   "metadata": {},
   "outputs": [
    {
     "data": {
      "text/plain": [
       "{'get': 'fixtures',\n",
       " 'parameters': {'league': '39', 'season': '2022', 'date': '2022-08-06'},\n",
       " 'errors': [],\n",
       " 'results': 6,\n",
       " 'paging': {'current': 1, 'total': 1},\n",
       " 'response': [{'fixture': {'id': 867947,\n",
       "    'referee': 'A. Madley',\n",
       "    'timezone': 'UTC',\n",
       "    'date': '2022-08-06T11:30:00+00:00',\n",
       "    'timestamp': 1659785400,\n",
       "    'periods': {'first': 1659785400, 'second': 1659789000},\n",
       "    'venue': {'id': 535, 'name': 'Craven Cottage', 'city': 'London'},\n",
       "    'status': {'long': 'Match Finished', 'short': 'FT', 'elapsed': 90}},\n",
       "   'league': {'id': 39,\n",
       "    'name': 'Premier League',\n",
       "    'country': 'England',\n",
       "    'logo': 'https://media.api-sports.io/football/leagues/39.png',\n",
       "    'flag': 'https://media.api-sports.io/flags/gb.svg',\n",
       "    'season': 2022,\n",
       "    'round': 'Regular Season - 1'},\n",
       "   'teams': {'home': {'id': 36,\n",
       "     'name': 'Fulham',\n",
       "     'logo': 'https://media.api-sports.io/football/teams/36.png',\n",
       "     'winner': None},\n",
       "    'away': {'id': 40,\n",
       "     'name': 'Liverpool',\n",
       "     'logo': 'https://media.api-sports.io/football/teams/40.png',\n",
       "     'winner': None}},\n",
       "   'goals': {'home': 2, 'away': 2},\n",
       "   'score': {'halftime': {'home': 1, 'away': 0},\n",
       "    'fulltime': {'home': 2, 'away': 2},\n",
       "    'extratime': {'home': None, 'away': None},\n",
       "    'penalty': {'home': None, 'away': None}}},\n",
       "  {'fixture': {'id': 867948,\n",
       "    'referee': 'P. Bankes',\n",
       "    'timezone': 'UTC',\n",
       "    'date': '2022-08-06T14:00:00+00:00',\n",
       "    'timestamp': 1659794400,\n",
       "    'periods': {'first': 1659794400, 'second': 1659798000},\n",
       "    'venue': {'id': 504,\n",
       "     'name': 'Vitality Stadium',\n",
       "     'city': 'Bournemouth, Dorset'},\n",
       "    'status': {'long': 'Match Finished', 'short': 'FT', 'elapsed': 90}},\n",
       "   'league': {'id': 39,\n",
       "    'name': 'Premier League',\n",
       "    'country': 'England',\n",
       "    'logo': 'https://media.api-sports.io/football/leagues/39.png',\n",
       "    'flag': 'https://media.api-sports.io/flags/gb.svg',\n",
       "    'season': 2022,\n",
       "    'round': 'Regular Season - 1'},\n",
       "   'teams': {'home': {'id': 35,\n",
       "     'name': 'Bournemouth',\n",
       "     'logo': 'https://media.api-sports.io/football/teams/35.png',\n",
       "     'winner': True},\n",
       "    'away': {'id': 66,\n",
       "     'name': 'Aston Villa',\n",
       "     'logo': 'https://media.api-sports.io/football/teams/66.png',\n",
       "     'winner': False}},\n",
       "   'goals': {'home': 2, 'away': 0},\n",
       "   'score': {'halftime': {'home': 1, 'away': 0},\n",
       "    'fulltime': {'home': 2, 'away': 0},\n",
       "    'extratime': {'home': None, 'away': None},\n",
       "    'penalty': {'home': None, 'away': None}}},\n",
       "  {'fixture': {'id': 867949,\n",
       "    'referee': 'R. Jones',\n",
       "    'timezone': 'UTC',\n",
       "    'date': '2022-08-06T14:00:00+00:00',\n",
       "    'timestamp': 1659794400,\n",
       "    'periods': {'first': 1659794400, 'second': 1659798000},\n",
       "    'venue': {'id': 546,\n",
       "     'name': 'Elland Road',\n",
       "     'city': 'Leeds, West Yorkshire'},\n",
       "    'status': {'long': 'Match Finished', 'short': 'FT', 'elapsed': 90}},\n",
       "   'league': {'id': 39,\n",
       "    'name': 'Premier League',\n",
       "    'country': 'England',\n",
       "    'logo': 'https://media.api-sports.io/football/leagues/39.png',\n",
       "    'flag': 'https://media.api-sports.io/flags/gb.svg',\n",
       "    'season': 2022,\n",
       "    'round': 'Regular Season - 1'},\n",
       "   'teams': {'home': {'id': 63,\n",
       "     'name': 'Leeds',\n",
       "     'logo': 'https://media.api-sports.io/football/teams/63.png',\n",
       "     'winner': True},\n",
       "    'away': {'id': 39,\n",
       "     'name': 'Wolves',\n",
       "     'logo': 'https://media.api-sports.io/football/teams/39.png',\n",
       "     'winner': False}},\n",
       "   'goals': {'home': 2, 'away': 1},\n",
       "   'score': {'halftime': {'home': 1, 'away': 1},\n",
       "    'fulltime': {'home': 2, 'away': 1},\n",
       "    'extratime': {'home': None, 'away': None},\n",
       "    'penalty': {'home': None, 'away': None}}},\n",
       "  {'fixture': {'id': 867951,\n",
       "    'referee': 'S. Hooper',\n",
       "    'timezone': 'UTC',\n",
       "    'date': '2022-08-06T14:00:00+00:00',\n",
       "    'timestamp': 1659794400,\n",
       "    'periods': {'first': 1659794400, 'second': 1659798000},\n",
       "    'venue': {'id': 562,\n",
       "     'name': \"St. James' Park\",\n",
       "     'city': 'Newcastle upon Tyne'},\n",
       "    'status': {'long': 'Match Finished', 'short': 'FT', 'elapsed': 90}},\n",
       "   'league': {'id': 39,\n",
       "    'name': 'Premier League',\n",
       "    'country': 'England',\n",
       "    'logo': 'https://media.api-sports.io/football/leagues/39.png',\n",
       "    'flag': 'https://media.api-sports.io/flags/gb.svg',\n",
       "    'season': 2022,\n",
       "    'round': 'Regular Season - 1'},\n",
       "   'teams': {'home': {'id': 34,\n",
       "     'name': 'Newcastle',\n",
       "     'logo': 'https://media.api-sports.io/football/teams/34.png',\n",
       "     'winner': True},\n",
       "    'away': {'id': 65,\n",
       "     'name': 'Nottingham Forest',\n",
       "     'logo': 'https://media.api-sports.io/football/teams/65.png',\n",
       "     'winner': False}},\n",
       "   'goals': {'home': 2, 'away': 0},\n",
       "   'score': {'halftime': {'home': 0, 'away': 0},\n",
       "    'fulltime': {'home': 2, 'away': 0},\n",
       "    'extratime': {'home': None, 'away': None},\n",
       "    'penalty': {'home': None, 'away': None}}},\n",
       "  {'fixture': {'id': 867952,\n",
       "    'referee': 'A. Marriner',\n",
       "    'timezone': 'UTC',\n",
       "    'date': '2022-08-06T14:00:00+00:00',\n",
       "    'timestamp': 1659794400,\n",
       "    'periods': {'first': 1659794400, 'second': 1659798000},\n",
       "    'venue': {'id': 593,\n",
       "     'name': 'Tottenham Hotspur Stadium',\n",
       "     'city': 'London'},\n",
       "    'status': {'long': 'Match Finished', 'short': 'FT', 'elapsed': 90}},\n",
       "   'league': {'id': 39,\n",
       "    'name': 'Premier League',\n",
       "    'country': 'England',\n",
       "    'logo': 'https://media.api-sports.io/football/leagues/39.png',\n",
       "    'flag': 'https://media.api-sports.io/flags/gb.svg',\n",
       "    'season': 2022,\n",
       "    'round': 'Regular Season - 1'},\n",
       "   'teams': {'home': {'id': 47,\n",
       "     'name': 'Tottenham',\n",
       "     'logo': 'https://media.api-sports.io/football/teams/47.png',\n",
       "     'winner': True},\n",
       "    'away': {'id': 41,\n",
       "     'name': 'Southampton',\n",
       "     'logo': 'https://media.api-sports.io/football/teams/41.png',\n",
       "     'winner': False}},\n",
       "   'goals': {'home': 4, 'away': 1},\n",
       "   'score': {'halftime': {'home': 2, 'away': 1},\n",
       "    'fulltime': {'home': 4, 'away': 1},\n",
       "    'extratime': {'home': None, 'away': None},\n",
       "    'penalty': {'home': None, 'away': None}}},\n",
       "  {'fixture': {'id': 867953,\n",
       "    'referee': 'C. Pawson',\n",
       "    'timezone': 'UTC',\n",
       "    'date': '2022-08-06T16:30:00+00:00',\n",
       "    'timestamp': 1659803400,\n",
       "    'periods': {'first': 1659803400, 'second': 1659807000},\n",
       "    'venue': {'id': 8560, 'name': 'Goodison Park', 'city': 'Liverpool'},\n",
       "    'status': {'long': 'Match Finished', 'short': 'FT', 'elapsed': 90}},\n",
       "   'league': {'id': 39,\n",
       "    'name': 'Premier League',\n",
       "    'country': 'England',\n",
       "    'logo': 'https://media.api-sports.io/football/leagues/39.png',\n",
       "    'flag': 'https://media.api-sports.io/flags/gb.svg',\n",
       "    'season': 2022,\n",
       "    'round': 'Regular Season - 1'},\n",
       "   'teams': {'home': {'id': 45,\n",
       "     'name': 'Everton',\n",
       "     'logo': 'https://media.api-sports.io/football/teams/45.png',\n",
       "     'winner': False},\n",
       "    'away': {'id': 49,\n",
       "     'name': 'Chelsea',\n",
       "     'logo': 'https://media.api-sports.io/football/teams/49.png',\n",
       "     'winner': True}},\n",
       "   'goals': {'home': 0, 'away': 1},\n",
       "   'score': {'halftime': {'home': 0, 'away': 1},\n",
       "    'fulltime': {'home': 0, 'away': 1},\n",
       "    'extratime': {'home': None, 'away': None},\n",
       "    'penalty': {'home': None, 'away': None}}}]}"
      ]
     },
     "execution_count": 174,
     "metadata": {},
     "output_type": "execute_result"
    }
   ],
   "source": [
    "fixtures_response"
   ]
  },
  {
   "cell_type": "code",
   "execution_count": 153,
   "metadata": {},
   "outputs": [
    {
     "name": "stdout",
     "output_type": "stream",
     "text": [
      "Fulham: 2 - Liverpool: 2\n",
      "Bournemouth: 2 - Aston Villa: 0\n",
      "Leeds: 2 - Wolves: 1\n",
      "Newcastle: 2 - Nottingham Forest: 0\n",
      "Tottenham: 4 - Southampton: 1\n",
      "Everton: 0 - Chelsea: 1\n"
     ]
    }
   ],
   "source": [
    "score_match_dict = {}\n",
    "for match in fixtures_response['response']:\n",
    "    # get the fixture id\n",
    "    fixture = match['fixture']['id']\n",
    "    \n",
    "     # get the team names\n",
    "    home_team = match['teams']['home']['name']\n",
    "    away_team = match['teams']['away']['name']\n",
    "\n",
    "    # get the score\n",
    "    home_score = match['score']['fulltime']['home']\n",
    "    away_score = match['score']['fulltime']['away']\n",
    "\n",
    "    # who won?\n",
    "    if home_score > away_score:\n",
    "        winner = 'Home'\n",
    "    elif home_score < away_score:\n",
    "        winner = 'Away'\n",
    "    else:\n",
    "        winner = 'Draw'\n",
    "\n",
    "    score_match_dict[fixture]={'home_team':home_team, 'away_team':away_team, 'home_score':home_score, 'away_score':away_score, 'winner':winner}\n"
   ]
  },
  {
   "cell_type": "markdown",
   "metadata": {},
   "source": [
    "# Get the \"Odds of Winning\" for each game on the date"
   ]
  },
  {
   "cell_type": "code",
   "execution_count": 154,
   "metadata": {},
   "outputs": [],
   "source": [
    "\n",
    "url = \"https://v3.football.api-sports.io/odds\"\n",
    "\n",
    "payload={'league':39, 'season':2022, 'date': '2022-08-06'}\n",
    "\n",
    "headers = {\n",
    "    'x-rapidapi-key': \"1e5964a18e1b9f63d1deeda23247e29e\",\n",
    "  'x-rapidapi-host': 'v3.football.api-sports.io'\n",
    "}\n",
    "\n",
    "odds_response = json.loads(requests.request(\"GET\", url, headers=headers, params=payload).text)\n"
   ]
  },
  {
   "cell_type": "code",
   "execution_count": 155,
   "metadata": {},
   "outputs": [],
   "source": [
    "odds_match_dict = {}\n",
    "for match in odds_response['response']:\n",
    "\n",
    "    # check to make sure 0 == match winner\n",
    "    if match['bookmakers'][0]['bets'][0]['name'] != 'Match Winner':\n",
    "        print('oh no! first id is not match winner')\n",
    "\n",
    "    odd_dict = {}\n",
    "    for value in match['bookmakers'][0]['bets'][0]['values']:\n",
    "        odd_dict[value['odd']] = value['value']\n",
    "\n",
    "    pred_win = odd_dict[max(odd_dict.keys())]\n",
    "\n",
    "    \n",
    "    \n",
    "    odds_match_dict[match['fixture']['id']] = pred_win"
   ]
  },
  {
   "cell_type": "code",
   "execution_count": 176,
   "metadata": {},
   "outputs": [
    {
     "data": {
      "text/plain": [
       "{867947: 'Draw',\n",
       " 867948: 'Home',\n",
       " 867949: 'Draw',\n",
       " 867951: 'Away',\n",
       " 867952: 'Away',\n",
       " 867953: 'Home'}"
      ]
     },
     "execution_count": 176,
     "metadata": {},
     "output_type": "execute_result"
    }
   ],
   "source": [
    "odds_match_dict"
   ]
  },
  {
   "cell_type": "markdown",
   "metadata": {},
   "source": [
    "# Print Outputs"
   ]
  },
  {
   "cell_type": "code",
   "execution_count": 172,
   "metadata": {},
   "outputs": [
    {
     "name": "stdout",
     "output_type": "stream",
     "text": [
      "UPSETS:\n",
      "Leeds: 2 - Wolves: 1\n",
      "Newcastle: 2 - Nottingham Forest: 0\n",
      "Tottenham: 4 - Southampton: 1\n",
      "Everton: 0 - Chelsea: 1\n",
      "\n",
      "EXPECTED:\n",
      "Fulham: 2 - Liverpool: 2\n",
      "Bournemouth: 2 - Aston Villa: 0\n"
     ]
    }
   ],
   "source": [
    "# get lists of correct and incorrect predictions\n",
    "correct_ids = []\n",
    "upset_ids = []\n",
    "for match_id in odds_match_dict.keys():\n",
    "    if odds_match_dict[match_id]!=score_match_dict[match_id]['winner']:\n",
    "       upset_ids.append(match_id) \n",
    "    else:\n",
    "        correct_ids.append(match_id)\n",
    "\n",
    "print(\"UPSETS:\")\n",
    "for id in upset_ids:\n",
    "    score_match_dict[id]\n",
    "    print(str(\"{home_team}: {home_score} - {away_team}: {away_score}\").format(\n",
    "        home_team=score_match_dict[id]['home_team'], \n",
    "        home_score=score_match_dict[id]['home_score'], \n",
    "        away_team=score_match_dict[id]['away_team'], \n",
    "        away_score=score_match_dict[id]['away_score']))\n",
    "\n",
    "print(\"\\nEXPECTED:\")\n",
    "for id in correct_ids:\n",
    "    score_match_dict[id]\n",
    "    print(str(\"{home_team}: {home_score} - {away_team}: {away_score}\").format(\n",
    "        home_team=score_match_dict[id]['home_team'], \n",
    "        home_score=score_match_dict[id]['home_score'], \n",
    "        away_team=score_match_dict[id]['away_team'], \n",
    "        away_score=score_match_dict[id]['away_score']))"
   ]
  }
 ],
 "metadata": {
  "kernelspec": {
   "display_name": "Python 3.8.10 ('venv': venv)",
   "language": "python",
   "name": "python3"
  },
  "language_info": {
   "codemirror_mode": {
    "name": "ipython",
    "version": 3
   },
   "file_extension": ".py",
   "mimetype": "text/x-python",
   "name": "python",
   "nbconvert_exporter": "python",
   "pygments_lexer": "ipython3",
   "version": "3.8.10"
  },
  "orig_nbformat": 4,
  "vscode": {
   "interpreter": {
    "hash": "f6f97b945b80f9f4c335c8f18a69b0bc7c194c7d2d1746e8796a4593ee083076"
   }
  }
 },
 "nbformat": 4,
 "nbformat_minor": 2
}
